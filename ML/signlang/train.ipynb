{
 "cells": [
  {
   "cell_type": "code",
   "execution_count": 27,
   "metadata": {},
   "outputs": [],
   "source": [
    "import numpy as np\n",
    "import os\n",
    "\n",
    "os.environ['CUDA_VISIBLE_DEVICES'] = '1'\n",
    "os.environ['TF_FORCE_GPU_ALLOW_GROWTH'] = 'true'"
   ]
  },
  {
   "cell_type": "code",
   "execution_count": 36,
   "metadata": {},
   "outputs": [
    {
     "data": {
      "text/plain": [
       "(1318, 30, 199)"
      ]
     },
     "execution_count": 36,
     "metadata": {},
     "output_type": "execute_result"
    }
   ],
   "source": [
    "actions = [\n",
    "    '안녕하세요',\n",
    "    '만나다',\n",
    "    '반갑다'\n",
    "]\n",
    "\n",
    "data = np.concatenate([\n",
    "    np.load('dataset/0_안녕하세요_.npy'),\n",
    "    np.load('dataset/1_만나다_.npy'),\n",
    "    np.load('dataset/2_반갑다_.npy'),\n",
    "], axis=0)\n",
    "\n",
    "data.shape"
   ]
  },
  {
   "cell_type": "code",
   "execution_count": 37,
   "metadata": {},
   "outputs": [
    {
     "name": "stdout",
     "output_type": "stream",
     "text": [
      "(1318, 30, 198)\n",
      "(1318,)\n"
     ]
    }
   ],
   "source": [
    "x_data = data[:, :, :-1]\n",
    "labels = data[:, 0, -1]\n",
    "\n",
    "print(x_data.shape)\n",
    "print(labels.shape) # 라벨의 원핫 인코딩 필요\n",
    "\n",
    "# print('\\n수어 인덱스')\n",
    "# idxes = {}\n",
    "# for i in labels:\n",
    "#     if i not in idxes:\n",
    "#         idxes[i] = True\n",
    "#         print(i)"
   ]
  },
  {
   "cell_type": "code",
   "execution_count": 38,
   "metadata": {},
   "outputs": [
    {
     "data": {
      "text/plain": [
       "(1318, 3)"
      ]
     },
     "execution_count": 38,
     "metadata": {},
     "output_type": "execute_result"
    }
   ],
   "source": [
    "# 원핫 인코딩\n",
    "# ex\n",
    "# 0 [1, 0, 0]\n",
    "# 1 [0, 1, 0]\n",
    "# 2 [0, 0, 1]\n",
    "\n",
    "from tensorflow.keras.utils import to_categorical\n",
    "\n",
    "y_data = to_categorical(labels, num_classes=len(actions))\n",
    "y_data.shape"
   ]
  },
  {
   "cell_type": "code",
   "execution_count": 39,
   "metadata": {},
   "outputs": [
    {
     "name": "stdout",
     "output_type": "stream",
     "text": [
      "(1186, 30, 198) (1186, 3)\n",
      "(132, 30, 198) (132, 3)\n"
     ]
    }
   ],
   "source": [
    "# 데이터를 학습(train)과 검증(validation) 세트로 나눔 -> 모델의 성능을 평가 && 과적합 방지\n",
    "# 과적합: 데이터 크기 작을 때 || 단일 샘플 데이터 세트 장기간 훈련\n",
    "# x: 입력, y: 출력\n",
    "from sklearn.model_selection import train_test_split\n",
    "\n",
    "x_data = x_data.astype(np.float32)\n",
    "y_data = y_data.astype(np.float32)\n",
    "\n",
    "x_train, x_val, y_train, y_val = train_test_split(x_data, y_data, test_size=0.1, random_state=2021)\n",
    "\n",
    "print(x_train.shape, y_train.shape)\n",
    "print(x_val.shape, y_val.shape)"
   ]
  },
  {
   "cell_type": "code",
   "execution_count": 44,
   "metadata": {},
   "outputs": [
    {
     "name": "stdout",
     "output_type": "stream",
     "text": [
      "Model: \"sequential_3\"\n",
      "_________________________________________________________________\n",
      "Layer (type)                 Output Shape              Param #   \n",
      "=================================================================\n",
      "lstm_3 (LSTM)                (None, 64)                67328     \n",
      "_________________________________________________________________\n",
      "dense_7 (Dense)              (None, 32)                2080      \n",
      "_________________________________________________________________\n",
      "dense_8 (Dense)              (None, 3)                 99        \n",
      "=================================================================\n",
      "Total params: 69,507\n",
      "Trainable params: 69,507\n",
      "Non-trainable params: 0\n",
      "_________________________________________________________________\n"
     ]
    }
   ],
   "source": [
    "# 모델 구조 정의, 컴파일\n",
    "from tensorflow.keras.models import Sequential\n",
    "from tensorflow.keras.layers import LSTM, Dense\n",
    "\n",
    "model = Sequential([\n",
    "    LSTM(64, activation='relu', input_shape=x_train.shape[1:3]), # (512,30,99)[1:3] => (30,99): (시퀀스 길이, 특징 수)\n",
    "    Dense(32, activation='relu'),\n",
    "    Dense(len(actions), activation='softmax')\n",
    "])\n",
    "\n",
    "model.compile(optimizer='adam', loss='categorical_crossentropy', metrics=['acc'])\n",
    "model.summary()"
   ]
  },
  {
   "cell_type": "code",
   "execution_count": 45,
   "metadata": {
    "scrolled": true
   },
   "outputs": [
    {
     "name": "stdout",
     "output_type": "stream",
     "text": [
      "Epoch 1/50\n",
      "36/38 [===========================>..] - ETA: 0s - loss: 11.7167 - acc: 0.6050\n",
      "Epoch 00001: val_acc improved from -inf to 0.40152, saving model to model_ko.h5\n",
      "38/38 [==============================] - 5s 143ms/step - loss: 12.0886 - acc: 0.5944 - val_loss: 18.6620 - val_acc: 0.4015\n",
      "Epoch 2/50\n",
      "38/38 [==============================] - ETA: 0s - loss: 4.0904 - acc: 0.8078\n",
      "Epoch 00002: val_acc improved from 0.40152 to 0.99242, saving model to model_ko.h5\n",
      "38/38 [==============================] - 1s 28ms/step - loss: 4.0904 - acc: 0.8078 - val_loss: 0.0344 - val_acc: 0.9924\n",
      "Epoch 3/50\n",
      "36/38 [===========================>..] - ETA: 0s - loss: 0.0384 - acc: 0.9965\n",
      "Epoch 00003: val_acc did not improve from 0.99242\n",
      "38/38 [==============================] - 1s 24ms/step - loss: 0.0373 - acc: 0.9966 - val_loss: 0.0616 - val_acc: 0.9773\n",
      "Epoch 4/50\n",
      "38/38 [==============================] - ETA: 0s - loss: 0.0240 - acc: 0.9958\n",
      "Epoch 00004: val_acc did not improve from 0.99242\n",
      "38/38 [==============================] - 1s 25ms/step - loss: 0.0240 - acc: 0.9958 - val_loss: 0.0075 - val_acc: 0.9924\n",
      "Epoch 5/50\n",
      "37/38 [============================>.] - ETA: 0s - loss: 6.9402e-05 - acc: 1.0000\n",
      "Epoch 00005: val_acc improved from 0.99242 to 1.00000, saving model to model_ko.h5\n",
      "38/38 [==============================] - 1s 26ms/step - loss: 6.9323e-05 - acc: 1.0000 - val_loss: 1.6441e-04 - val_acc: 1.0000\n",
      "Epoch 6/50\n",
      "36/38 [===========================>..] - ETA: 0s - loss: 5.6960e-05 - acc: 1.0000\n",
      "Epoch 00006: val_acc did not improve from 1.00000\n",
      "38/38 [==============================] - 1s 25ms/step - loss: 5.6481e-05 - acc: 1.0000 - val_loss: 1.5619e-04 - val_acc: 1.0000\n",
      "Epoch 7/50\n",
      "38/38 [==============================] - ETA: 0s - loss: 5.2299e-05 - acc: 1.0000\n",
      "Epoch 00007: val_acc did not improve from 1.00000\n",
      "38/38 [==============================] - 1s 25ms/step - loss: 5.2299e-05 - acc: 1.0000 - val_loss: 1.5380e-04 - val_acc: 1.0000\n",
      "Epoch 8/50\n",
      "36/38 [===========================>..] - ETA: 0s - loss: 4.9821e-05 - acc: 1.0000\n",
      "Epoch 00008: val_acc did not improve from 1.00000\n",
      "38/38 [==============================] - 1s 25ms/step - loss: 4.9214e-05 - acc: 1.0000 - val_loss: 1.5262e-04 - val_acc: 1.0000\n",
      "Epoch 9/50\n",
      "36/38 [===========================>..] - ETA: 0s - loss: 4.7831e-05 - acc: 1.0000\n",
      "Epoch 00009: val_acc did not improve from 1.00000\n",
      "38/38 [==============================] - 1s 25ms/step - loss: 4.7037e-05 - acc: 1.0000 - val_loss: 1.3956e-04 - val_acc: 1.0000\n",
      "Epoch 10/50\n",
      "37/38 [============================>.] - ETA: 0s - loss: 4.4737e-05 - acc: 1.0000\n",
      "Epoch 00010: val_acc did not improve from 1.00000\n",
      "38/38 [==============================] - 1s 25ms/step - loss: 4.4793e-05 - acc: 1.0000 - val_loss: 1.3669e-04 - val_acc: 1.0000\n",
      "Epoch 11/50\n",
      "37/38 [============================>.] - ETA: 0s - loss: 4.3335e-05 - acc: 1.0000\n",
      "Epoch 00011: val_acc did not improve from 1.00000\n",
      "38/38 [==============================] - 1s 24ms/step - loss: 4.3261e-05 - acc: 1.0000 - val_loss: 1.2718e-04 - val_acc: 1.0000\n",
      "Epoch 12/50\n",
      "37/38 [============================>.] - ETA: 0s - loss: 4.1264e-05 - acc: 1.0000\n",
      "Epoch 00012: val_acc did not improve from 1.00000\n",
      "38/38 [==============================] - 1s 23ms/step - loss: 4.1308e-05 - acc: 1.0000 - val_loss: 1.1749e-04 - val_acc: 1.0000\n",
      "Epoch 13/50\n",
      "37/38 [============================>.] - ETA: 0s - loss: 3.9539e-05 - acc: 1.0000\n",
      "Epoch 00013: val_acc did not improve from 1.00000\n",
      "38/38 [==============================] - 1s 24ms/step - loss: 3.9551e-05 - acc: 1.0000 - val_loss: 1.0744e-04 - val_acc: 1.0000\n",
      "Epoch 14/50\n",
      "37/38 [============================>.] - ETA: 0s - loss: 3.8161e-05 - acc: 1.0000\n",
      "Epoch 00014: val_acc did not improve from 1.00000\n",
      "38/38 [==============================] - 1s 24ms/step - loss: 3.8097e-05 - acc: 1.0000 - val_loss: 1.0542e-04 - val_acc: 1.0000\n",
      "Epoch 15/50\n",
      "37/38 [============================>.] - ETA: 0s - loss: 3.6502e-05 - acc: 1.0000\n",
      "Epoch 00015: val_acc did not improve from 1.00000\n",
      "38/38 [==============================] - 1s 24ms/step - loss: 3.6536e-05 - acc: 1.0000 - val_loss: 9.8629e-05 - val_acc: 1.0000\n",
      "Epoch 16/50\n",
      "37/38 [============================>.] - ETA: 0s - loss: 3.5033e-05 - acc: 1.0000\n",
      "Epoch 00016: val_acc did not improve from 1.00000\n",
      "38/38 [==============================] - 1s 23ms/step - loss: 3.5027e-05 - acc: 1.0000 - val_loss: 9.2563e-05 - val_acc: 1.0000\n",
      "Epoch 17/50\n",
      "37/38 [============================>.] - ETA: 0s - loss: 3.3817e-05 - acc: 1.0000\n",
      "Epoch 00017: val_acc did not improve from 1.00000\n",
      "38/38 [==============================] - 1s 24ms/step - loss: 3.3760e-05 - acc: 1.0000 - val_loss: 8.9349e-05 - val_acc: 1.0000\n",
      "Epoch 18/50\n",
      "37/38 [============================>.] - ETA: 0s - loss: 3.2489e-05 - acc: 1.0000\n",
      "Epoch 00018: val_acc did not improve from 1.00000\n",
      "38/38 [==============================] - 1s 24ms/step - loss: 3.2451e-05 - acc: 1.0000 - val_loss: 8.3774e-05 - val_acc: 1.0000\n",
      "Epoch 19/50\n",
      "36/38 [===========================>..] - ETA: 0s - loss: 3.1375e-05 - acc: 1.0000\n",
      "Epoch 00019: val_acc did not improve from 1.00000\n",
      "38/38 [==============================] - 1s 23ms/step - loss: 3.1319e-05 - acc: 1.0000 - val_loss: 7.8570e-05 - val_acc: 1.0000\n",
      "Epoch 20/50\n",
      "38/38 [==============================] - ETA: 0s - loss: 3.0060e-05 - acc: 1.0000\n",
      "Epoch 00020: val_acc did not improve from 1.00000\n",
      "38/38 [==============================] - 1s 22ms/step - loss: 3.0060e-05 - acc: 1.0000 - val_loss: 7.7281e-05 - val_acc: 1.0000\n",
      "Epoch 21/50\n",
      "37/38 [============================>.] - ETA: 0s - loss: 2.9160e-05 - acc: 1.0000\n",
      "Epoch 00021: val_acc did not improve from 1.00000\n",
      "38/38 [==============================] - 1s 23ms/step - loss: 2.9111e-05 - acc: 1.0000 - val_loss: 7.1451e-05 - val_acc: 1.0000\n",
      "Epoch 22/50\n",
      "36/38 [===========================>..] - ETA: 0s - loss: 2.7970e-05 - acc: 1.0000\n",
      "Epoch 00022: val_acc did not improve from 1.00000\n",
      "38/38 [==============================] - 1s 24ms/step - loss: 2.8026e-05 - acc: 1.0000 - val_loss: 6.9269e-05 - val_acc: 1.0000\n",
      "Epoch 23/50\n",
      "37/38 [============================>.] - ETA: 0s - loss: 2.7083e-05 - acc: 1.0000\n",
      "Epoch 00023: val_acc did not improve from 1.00000\n",
      "38/38 [==============================] - 1s 24ms/step - loss: 2.7037e-05 - acc: 1.0000 - val_loss: 6.4032e-05 - val_acc: 1.0000\n",
      "Epoch 24/50\n",
      "37/38 [============================>.] - ETA: 0s - loss: 2.6165e-05 - acc: 1.0000\n",
      "Epoch 00024: val_acc did not improve from 1.00000\n",
      "38/38 [==============================] - 1s 24ms/step - loss: 2.6123e-05 - acc: 1.0000 - val_loss: 6.2696e-05 - val_acc: 1.0000\n",
      "Epoch 25/50\n",
      "37/38 [============================>.] - ETA: 0s - loss: 2.5234e-05 - acc: 1.0000\n",
      "Epoch 00025: val_acc did not improve from 1.00000\n",
      "38/38 [==============================] - 1s 24ms/step - loss: 2.5192e-05 - acc: 1.0000 - val_loss: 5.8023e-05 - val_acc: 1.0000\n",
      "Epoch 26/50\n",
      "37/38 [============================>.] - ETA: 0s - loss: 2.4440e-05 - acc: 1.0000\n",
      "Epoch 00026: val_acc did not improve from 1.00000\n",
      "38/38 [==============================] - 1s 24ms/step - loss: 2.4409e-05 - acc: 1.0000 - val_loss: 5.7035e-05 - val_acc: 1.0000\n",
      "Epoch 27/50\n",
      "36/38 [===========================>..] - ETA: 0s - loss: 2.3602e-05 - acc: 1.0000\n",
      "Epoch 00027: val_acc did not improve from 1.00000\n",
      "38/38 [==============================] - 1s 24ms/step - loss: 2.3517e-05 - acc: 1.0000 - val_loss: 5.3336e-05 - val_acc: 1.0000\n",
      "Epoch 28/50\n",
      "36/38 [===========================>..] - ETA: 0s - loss: 2.3215e-05 - acc: 1.0000\n",
      "Epoch 00028: val_acc did not improve from 1.00000\n",
      "38/38 [==============================] - 1s 25ms/step - loss: 2.2826e-05 - acc: 1.0000 - val_loss: 5.1888e-05 - val_acc: 1.0000\n",
      "Epoch 29/50\n",
      "36/38 [===========================>..] - ETA: 0s - loss: 2.2007e-05 - acc: 1.0000\n",
      "Epoch 00029: val_acc did not improve from 1.00000\n",
      "38/38 [==============================] - 1s 24ms/step - loss: 2.1968e-05 - acc: 1.0000 - val_loss: 5.0556e-05 - val_acc: 1.0000\n",
      "Epoch 30/50\n",
      "37/38 [============================>.] - ETA: 0s - loss: 2.1357e-05 - acc: 1.0000\n",
      "Epoch 00030: val_acc did not improve from 1.00000\n",
      "38/38 [==============================] - 1s 23ms/step - loss: 2.1334e-05 - acc: 1.0000 - val_loss: 4.8319e-05 - val_acc: 1.0000\n",
      "Epoch 31/50\n",
      "37/38 [============================>.] - ETA: 0s - loss: 2.0611e-05 - acc: 1.0000\n",
      "Epoch 00031: val_acc did not improve from 1.00000\n",
      "38/38 [==============================] - 1s 24ms/step - loss: 2.0606e-05 - acc: 1.0000 - val_loss: 4.6139e-05 - val_acc: 1.0000\n",
      "Epoch 32/50\n",
      "37/38 [============================>.] - ETA: 0s - loss: 1.9975e-05 - acc: 1.0000\n",
      "Epoch 00032: val_acc did not improve from 1.00000\n",
      "38/38 [==============================] - 1s 24ms/step - loss: 1.9971e-05 - acc: 1.0000 - val_loss: 4.3513e-05 - val_acc: 1.0000\n",
      "Epoch 33/50\n",
      "36/38 [===========================>..] - ETA: 0s - loss: 1.9425e-05 - acc: 1.0000\n",
      "Epoch 00033: val_acc did not improve from 1.00000\n",
      "38/38 [==============================] - 1s 22ms/step - loss: 1.9284e-05 - acc: 1.0000 - val_loss: 4.2162e-05 - val_acc: 1.0000\n",
      "Epoch 34/50\n",
      "38/38 [==============================] - ETA: 0s - loss: 1.8663e-05 - acc: 1.0000\n",
      "Epoch 00034: val_acc did not improve from 1.00000\n",
      "38/38 [==============================] - 1s 23ms/step - loss: 1.8663e-05 - acc: 1.0000 - val_loss: 3.9604e-05 - val_acc: 1.0000\n",
      "Epoch 35/50\n",
      "37/38 [============================>.] - ETA: 0s - loss: 1.8190e-05 - acc: 1.0000\n",
      "Epoch 00035: val_acc did not improve from 1.00000\n",
      "38/38 [==============================] - 1s 23ms/step - loss: 1.8159e-05 - acc: 1.0000 - val_loss: 3.8778e-05 - val_acc: 1.0000\n",
      "Epoch 36/50\n",
      "37/38 [============================>.] - ETA: 0s - loss: 1.7534e-05 - acc: 1.0000\n",
      "Epoch 00036: val_acc did not improve from 1.00000\n",
      "38/38 [==============================] - 1s 26ms/step - loss: 1.7548e-05 - acc: 1.0000 - val_loss: 3.6716e-05 - val_acc: 1.0000\n",
      "Epoch 37/50\n",
      "37/38 [============================>.] - ETA: 0s - loss: 1.6945e-05 - acc: 1.0000\n",
      "Epoch 00037: val_acc did not improve from 1.00000\n",
      "38/38 [==============================] - 1s 26ms/step - loss: 1.7004e-05 - acc: 1.0000 - val_loss: 3.5613e-05 - val_acc: 1.0000\n",
      "Epoch 38/50\n",
      "36/38 [===========================>..] - ETA: 0s - loss: 1.6586e-05 - acc: 1.0000\n",
      "Epoch 00038: val_acc did not improve from 1.00000\n",
      "38/38 [==============================] - 1s 27ms/step - loss: 1.6453e-05 - acc: 1.0000 - val_loss: 3.4628e-05 - val_acc: 1.0000\n",
      "Epoch 39/50\n",
      "37/38 [============================>.] - ETA: 0s - loss: 1.5952e-05 - acc: 1.0000\n",
      "Epoch 00039: val_acc did not improve from 1.00000\n",
      "38/38 [==============================] - 1s 22ms/step - loss: 1.5933e-05 - acc: 1.0000 - val_loss: 3.2710e-05 - val_acc: 1.0000\n",
      "Epoch 40/50\n",
      "37/38 [============================>.] - ETA: 0s - loss: 1.5481e-05 - acc: 1.0000\n",
      "Epoch 00040: val_acc did not improve from 1.00000\n",
      "38/38 [==============================] - 1s 24ms/step - loss: 1.5483e-05 - acc: 1.0000 - val_loss: 3.1642e-05 - val_acc: 1.0000\n",
      "Epoch 41/50\n",
      "37/38 [============================>.] - ETA: 0s - loss: 1.5024e-05 - acc: 1.0000\n",
      "Epoch 00041: val_acc did not improve from 1.00000\n",
      "38/38 [==============================] - 1s 24ms/step - loss: 1.4999e-05 - acc: 1.0000 - val_loss: 3.0823e-05 - val_acc: 1.0000\n",
      "Epoch 42/50\n",
      "37/38 [============================>.] - ETA: 0s - loss: 1.4552e-05 - acc: 1.0000\n",
      "Epoch 00042: val_acc did not improve from 1.00000\n",
      "38/38 [==============================] - 1s 24ms/step - loss: 1.4545e-05 - acc: 1.0000 - val_loss: 2.9386e-05 - val_acc: 1.0000\n",
      "Epoch 43/50\n",
      "37/38 [============================>.] - ETA: 0s - loss: 1.4164e-05 - acc: 1.0000\n",
      "Epoch 00043: val_acc did not improve from 1.00000\n",
      "38/38 [==============================] - 1s 24ms/step - loss: 1.4140e-05 - acc: 1.0000 - val_loss: 2.8237e-05 - val_acc: 1.0000\n",
      "Epoch 44/50\n",
      "37/38 [============================>.] - ETA: 0s - loss: 1.3714e-05 - acc: 1.0000\n",
      "Epoch 00044: val_acc did not improve from 1.00000\n",
      "38/38 [==============================] - 1s 24ms/step - loss: 1.3725e-05 - acc: 1.0000 - val_loss: 2.7571e-05 - val_acc: 1.0000\n",
      "Epoch 45/50\n",
      "38/38 [==============================] - ETA: 0s - loss: 1.3302e-05 - acc: 1.0000\n",
      "Epoch 00045: val_acc did not improve from 1.00000\n",
      "38/38 [==============================] - 1s 24ms/step - loss: 1.3302e-05 - acc: 1.0000 - val_loss: 2.6805e-05 - val_acc: 1.0000\n",
      "Epoch 46/50\n",
      "37/38 [============================>.] - ETA: 0s - loss: 1.2875e-05 - acc: 1.0000\n",
      "Epoch 00046: val_acc did not improve from 1.00000\n",
      "38/38 [==============================] - 1s 23ms/step - loss: 1.2927e-05 - acc: 1.0000 - val_loss: 2.5293e-05 - val_acc: 1.0000\n",
      "Epoch 47/50\n",
      "36/38 [===========================>..] - ETA: 0s - loss: 1.2615e-05 - acc: 1.0000\n",
      "Epoch 00047: val_acc did not improve from 1.00000\n",
      "38/38 [==============================] - 1s 23ms/step - loss: 1.2538e-05 - acc: 1.0000 - val_loss: 2.4587e-05 - val_acc: 1.0000\n",
      "Epoch 48/50\n",
      "37/38 [============================>.] - ETA: 0s - loss: 1.2183e-05 - acc: 1.0000\n",
      "Epoch 00048: val_acc did not improve from 1.00000\n",
      "38/38 [==============================] - 1s 23ms/step - loss: 1.2162e-05 - acc: 1.0000 - val_loss: 2.3977e-05 - val_acc: 1.0000\n",
      "Epoch 49/50\n",
      "37/38 [============================>.] - ETA: 0s - loss: 1.1816e-05 - acc: 1.0000\n",
      "Epoch 00049: val_acc did not improve from 1.00000\n",
      "38/38 [==============================] - 1s 24ms/step - loss: 1.1798e-05 - acc: 1.0000 - val_loss: 2.2742e-05 - val_acc: 1.0000\n",
      "Epoch 50/50\n",
      "37/38 [============================>.] - ETA: 0s - loss: 1.1490e-05 - acc: 1.0000\n",
      "Epoch 00050: val_acc did not improve from 1.00000\n",
      "38/38 [==============================] - 1s 23ms/step - loss: 1.1493e-05 - acc: 1.0000 - val_loss: 2.2076e-05 - val_acc: 1.0000\n"
     ]
    }
   ],
   "source": [
    "# 모델 훈련 (epochs=200: 학습량)\n",
    "from tensorflow.keras.callbacks import ModelCheckpoint, ReduceLROnPlateau\n",
    "from tensorflow.keras.models import load_model\n",
    "\n",
    "history = model.fit(\n",
    "    x_train,\n",
    "    y_train,\n",
    "    validation_data=(x_val, y_val),\n",
    "    epochs=50,\n",
    "    callbacks=[\n",
    "        ModelCheckpoint('model_ko.h5', monitor='val_acc', verbose=1, save_best_only=True, mode='auto'),\n",
    "        ReduceLROnPlateau(monitor='val_acc', factor=0.5, patience=50, verbose=1, mode='auto')\n",
    "    ]\n",
    ")"
   ]
  },
  {
   "cell_type": "code",
   "execution_count": 46,
   "metadata": {},
   "outputs": [
    {
     "data": {
      "image/png": "[encoded data removed]",
      "text/plain": [
       "<Figure size 1600x1000 with 2 Axes>"
      ]
     },
     "metadata": {},
     "output_type": "display_data"
    }
   ],
   "source": [
    "# 훈련 과정에서 발생한 손실(loss) 및 정확도(accuracy)를 시각화\n",
    "\n",
    "import matplotlib.pyplot as plt\n",
    "\n",
    "fig, loss_ax = plt.subplots(figsize=(16, 10))\n",
    "acc_ax = loss_ax.twinx()\n",
    "\n",
    "loss_ax.plot(history.history['loss'], 'y', label='train loss')\n",
    "loss_ax.plot(history.history['val_loss'], 'r', label='val loss')\n",
    "loss_ax.set_xlabel('epoch')\n",
    "loss_ax.set_ylabel('loss')\n",
    "loss_ax.legend(loc='upper left')\n",
    "\n",
    "acc_ax.plot(history.history['acc'], 'b', label='train acc')\n",
    "acc_ax.plot(history.history['val_acc'], 'g', label='val acc')\n",
    "acc_ax.set_ylabel('accuracy')\n",
    "acc_ax.legend(loc='upper left')\n",
    "\n",
    "plt.show()"
   ]
  },
  {
   "cell_type": "code",
   "execution_count": 47,
   "metadata": {},
   "outputs": [
    {
     "data": {
      "text/plain": [
       "array([[[89,  0],\n",
       "        [ 0, 43]],\n",
       "\n",
       "       [[93,  0],\n",
       "        [ 0, 39]],\n",
       "\n",
       "       [[82,  0],\n",
       "        [ 0, 50]]], dtype=int64)"
      ]
     },
     "execution_count": 47,
     "metadata": {},
     "output_type": "execute_result"
    }
   ],
   "source": [
    "# 모델의 예측 결과와 실제 레이블 간의 다중 레이블 혼동 행렬(multilabel confusion matrix)을 계산하는 작업을 수행\n",
    "\n",
    "from sklearn.metrics import multilabel_confusion_matrix\n",
    "\n",
    "\n",
    "y_pred = model.predict(x_val)\n",
    "\n",
    "multilabel_confusion_matrix(np.argmax(y_val, axis=1), np.argmax(y_pred, axis=1))\n",
    "\n",
    "# 실행 결과 예시\n",
    "# WARNING:tensorflow:Layer lstm will not use cuDNN kernel since it doesn't meet the cuDNN kernel criteria. It will use generic GPU kernel as fallback when running on GPU\n",
    "# array([[[94,  1],\n",
    "#         [ 0, 34]],\n",
    "\n",
    "#        [[81,  0],\n",
    "#         [ 0, 47]],\n",
    "\n",
    "#        [[81,  0],\n",
    "#         [ 0, 47]]])\n",
    "\n",
    "# 예시로 해석\n",
    "# True Positive (TP): 모델이 양성(Positive)으로 예측한 것 중에서 실제로 양성인 경우의 수. (94)\n",
    "# True Negative (TN): 모델이 음성(Negative)으로 예측한 것 중에서 실제로 음성인 경우의 수. (34))\n",
    "# False Positive (FP): 모델이 양성(Positive)으로 잘못 예측한 것 중에서 실제로는 음성인 경우의 수. (0: 모델이 양성으로 잘못 예측한 경우가 없음)\n",
    "# False Negative (FN): 모델이 음성(Negative)으로 잘못 예측한 것 중에서 실제로는 양성인 경우의 수. (1)"
   ]
  },
  {
   "cell_type": "code",
   "execution_count": null,
   "metadata": {},
   "outputs": [],
   "source": []
  },
  {
   "cell_type": "code",
   "execution_count": null,
   "metadata": {},
   "outputs": [],
   "source": []
  }
 ],
 "metadata": {
  "kernelspec": {
   "display_name": "sign",
   "language": "python",
   "name": "sign"
  },
  "language_info": {
   "codemirror_mode": {
    "name": "ipython",
    "version": 3
   },
   "file_extension": ".py",
   "mimetype": "text/x-python",
   "name": "python",
   "nbconvert_exporter": "python",
   "pygments_lexer": "ipython3",
   "version": "3.8.18"
  }
 },
 "nbformat": 4,
 "nbformat_minor": 4
}

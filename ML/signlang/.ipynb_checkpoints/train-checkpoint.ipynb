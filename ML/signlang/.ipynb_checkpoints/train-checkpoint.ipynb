{
 "cells": [
  {
   "cell_type": "code",
   "execution_count": 58,
   "metadata": {},
   "outputs": [],
   "source": [
    "import numpy as np\n",
    "import os\n",
    "\n",
    "os.environ['CUDA_VISIBLE_DEVICES'] = '1'\n",
    "os.environ['TF_FORCE_GPU_ALLOW_GROWTH'] = 'true'"
   ]
  },
  {
   "cell_type": "code",
   "execution_count": 59,
   "metadata": {},
   "outputs": [
    {
     "data": {
      "text/plain": [
       "(1318, 30, 199)"
      ]
     },
     "execution_count": 59,
     "metadata": {},
     "output_type": "execute_result"
    }
   ],
   "source": [
    "actions = [\n",
    "    '안녕하세요',\n",
    "    '만나다',\n",
    "    '반갑다'\n",
    "]\n",
    "\n",
    "data = np.concatenate([\n",
    "    np.load('dataset/0_안녕하세요_.npy'),\n",
    "    np.load('dataset/1_만나다_.npy'),\n",
    "    np.load('dataset/2_반갑다_.npy'),\n",
    "], axis=0)\n",
    "\n",
    "data.shape"
   ]
  },
  {
   "cell_type": "code",
   "execution_count": 60,
   "metadata": {},
   "outputs": [
    {
     "name": "stdout",
     "output_type": "stream",
     "text": [
      "(1318, 30, 198)\n",
      "(1318,)\n"
     ]
    }
   ],
   "source": [
    "x_data = data[:, :, :-1]\n",
    "labels = data[:, 0, -1]\n",
    "\n",
    "print(x_data.shape)\n",
    "print(labels.shape) # 라벨의 원핫 인코딩 필요\n",
    "\n",
    "# print('\\n수어 인덱스')\n",
    "# idxes = {}\n",
    "# for i in labels:\n",
    "#     if i not in idxes:\n",
    "#         idxes[i] = True\n",
    "#         print(i)"
   ]
  },
  {
   "cell_type": "code",
   "execution_count": 61,
   "metadata": {},
   "outputs": [
    {
     "data": {
      "text/plain": [
       "(1318, 3)"
      ]
     },
     "execution_count": 61,
     "metadata": {},
     "output_type": "execute_result"
    }
   ],
   "source": [
    "# 원핫 인코딩\n",
    "# ex\n",
    "# 0 [1, 0, 0]\n",
    "# 1 [0, 1, 0]\n",
    "# 2 [0, 0, 1]\n",
    "\n",
    "from tensorflow.keras.utils import to_categorical\n",
    "\n",
    "y_data = to_categorical(labels, num_classes=len(actions))\n",
    "y_data.shape"
   ]
  },
  {
   "cell_type": "code",
   "execution_count": 62,
   "metadata": {},
   "outputs": [
    {
     "name": "stdout",
     "output_type": "stream",
     "text": [
      "(922, 30, 198) (922, 3)\n",
      "(396, 30, 198) (396, 3)\n"
     ]
    }
   ],
   "source": [
    "# 데이터를 학습(train)과 검증(validation) 세트로 나눔 -> 모델의 성능을 평가 && 과적합 방지\n",
    "# 과적합: 데이터 크기 작을 때 || 단일 샘플 데이터 세트 장기간 훈련\n",
    "# x: 입력, y: 출력\n",
    "from sklearn.model_selection import train_test_split\n",
    "\n",
    "x_data = x_data.astype(np.float32)\n",
    "y_data = y_data.astype(np.float32)\n",
    "\n",
    "x_train, x_val, y_train, y_val = train_test_split(x_data, y_data, test_size=0.3, random_state=2021) # test_size 조정\n",
    "\n",
    "print(x_train.shape, y_train.shape)\n",
    "print(x_val.shape, y_val.shape)"
   ]
  },
  {
   "cell_type": "code",
   "execution_count": 67,
   "metadata": {},
   "outputs": [
    {
     "name": "stdout",
     "output_type": "stream",
     "text": [
      "Model: \"sequential_6\"\n",
      "_________________________________________________________________\n",
      "Layer (type)                 Output Shape              Param #   \n",
      "=================================================================\n",
      "conv1d_2 (Conv1D)            (None, 30, 32)            19040     \n",
      "_________________________________________________________________\n",
      "max_pooling1d_2 (MaxPooling1 (None, 15, 32)            0         \n",
      "_________________________________________________________________\n",
      "lstm_6 (LSTM)                (None, 64)                24832     \n",
      "_________________________________________________________________\n",
      "dropout_2 (Dropout)          (None, 64)                0         \n",
      "_________________________________________________________________\n",
      "dense_14 (Dense)             (None, 8)                 520       \n",
      "_________________________________________________________________\n",
      "dense_15 (Dense)             (None, 16)                144       \n",
      "_________________________________________________________________\n",
      "dense_16 (Dense)             (None, 3)                 51        \n",
      "=================================================================\n",
      "Total params: 44,587\n",
      "Trainable params: 44,587\n",
      "Non-trainable params: 0\n",
      "_________________________________________________________________\n"
     ]
    }
   ],
   "source": [
    "# 모델 구조 정의, 컴파일\n",
    "from tensorflow.keras.models import Sequential\n",
    "from tensorflow.keras.layers import LSTM, Dense, Conv1D, MaxPooling1D, Dropout\n",
    "\n",
    "# model = Sequential([\n",
    "#     LSTM(64, activation='relu', input_shape=x_train.shape[1:3]), # (512,30,198)[1:3] => (30,198): (시퀀스 길이, 특징 수)\n",
    "#     Dense(32, activation='relu'),\n",
    "#     Dense(len(actions), activation='softmax')\n",
    "# ])\n",
    "model = Sequential([\n",
    "    Conv1D(filters=32, kernel_size=3, activation='relu', padding='same', input_shape=x_train.shape[1:]), # Convolutional layer 추가\n",
    "    MaxPooling1D(pool_size=2),  # MaxPooling layer 추가\n",
    "    LSTM(64, activation='relu'), # LSTM layer 유지\n",
    "    Dropout(0.2),  # Dropout layer 추가\n",
    "    Dense(8, activation='relu'), # Dense layer\n",
    "    Dense(16, activation='relu'), # Dense layer 추가\n",
    "    Dense(len(actions), activation='softmax')  # Output layer 유지\n",
    "])\n",
    "\n",
    "model.compile(optimizer='adam', loss='categorical_crossentropy', metrics=['acc'])\n",
    "model.summary()"
   ]
  },
  {
   "cell_type": "code",
   "execution_count": 68,
   "metadata": {
    "scrolled": true
   },
   "outputs": [
    {
     "name": "stdout",
     "output_type": "stream",
     "text": [
      "Epoch 1/50\n",
      "29/29 [==============================] - ETA: 0s - loss: 2.6503 - acc: 0.6822\n",
      "Epoch 00001: val_acc improved from -inf to 0.98232, saving model to model_ko.h5\n",
      "29/29 [==============================] - 1s 23ms/step - loss: 2.6503 - acc: 0.6822 - val_loss: 0.2680 - val_acc: 0.9823\n",
      "Epoch 2/50\n",
      "24/29 [=======================>......] - ETA: 0s - loss: 0.3448 - acc: 0.8802\n",
      "Epoch 00002: val_acc did not improve from 0.98232\n",
      "29/29 [==============================] - 0s 11ms/step - loss: 0.4923 - acc: 0.8807 - val_loss: 0.9981 - val_acc: 0.8864\n",
      "Epoch 3/50\n",
      "26/29 [=========================>....] - ETA: 0s - loss: 0.1950 - acc: 0.9435\n",
      "Epoch 00003: val_acc improved from 0.98232 to 1.00000, saving model to model_ko.h5\n",
      "29/29 [==============================] - 0s 16ms/step - loss: 0.1765 - acc: 0.9490 - val_loss: 0.0014 - val_acc: 1.0000\n",
      "Epoch 4/50\n",
      "28/29 [===========================>..] - ETA: 0s - loss: 0.0068 - acc: 0.9978\n",
      "Epoch 00004: val_acc did not improve from 1.00000\n",
      "29/29 [==============================] - 0s 16ms/step - loss: 0.0067 - acc: 0.9978 - val_loss: 1.5837e-04 - val_acc: 1.0000\n",
      "Epoch 5/50\n",
      "27/29 [==========================>...] - ETA: 0s - loss: 0.0247 - acc: 0.9942\n",
      "Epoch 00005: val_acc did not improve from 1.00000\n",
      "29/29 [==============================] - 1s 19ms/step - loss: 0.0233 - acc: 0.9946 - val_loss: 0.0048 - val_acc: 1.0000\n",
      "Epoch 6/50\n",
      "26/29 [=========================>....] - ETA: 0s - loss: 0.3430 - acc: 0.9712\n",
      "Epoch 00006: val_acc did not improve from 1.00000\n",
      "29/29 [==============================] - 0s 15ms/step - loss: 0.3116 - acc: 0.9729 - val_loss: 0.0097 - val_acc: 1.0000\n",
      "Epoch 7/50\n",
      "26/29 [=========================>....] - ETA: 0s - loss: 0.0678 - acc: 0.9820\n",
      "Epoch 00007: val_acc did not improve from 1.00000\n",
      "29/29 [==============================] - 0s 16ms/step - loss: 0.0641 - acc: 0.9826 - val_loss: 0.0031 - val_acc: 1.0000\n",
      "Epoch 8/50\n",
      "29/29 [==============================] - ETA: 0s - loss: 0.0110 - acc: 0.9989\n",
      "Epoch 00008: val_acc did not improve from 1.00000\n",
      "29/29 [==============================] - 1s 18ms/step - loss: 0.0110 - acc: 0.9989 - val_loss: 3.3515e-04 - val_acc: 1.0000\n",
      "Epoch 9/50\n",
      "26/29 [=========================>....] - ETA: 0s - loss: 0.0069 - acc: 1.0000\n",
      "Epoch 00009: val_acc did not improve from 1.00000\n",
      "29/29 [==============================] - 1s 19ms/step - loss: 0.0075 - acc: 1.0000 - val_loss: 1.4664e-04 - val_acc: 1.0000\n",
      "Epoch 10/50\n",
      "29/29 [==============================] - ETA: 0s - loss: 0.0040 - acc: 1.0000\n",
      "Epoch 00010: val_acc did not improve from 1.00000\n",
      "29/29 [==============================] - 0s 17ms/step - loss: 0.0040 - acc: 1.0000 - val_loss: 6.1140e-05 - val_acc: 1.0000\n",
      "Epoch 11/50\n",
      "29/29 [==============================] - ETA: 0s - loss: 0.0020 - acc: 1.0000\n",
      "Epoch 00011: val_acc did not improve from 1.00000\n",
      "29/29 [==============================] - 1s 17ms/step - loss: 0.0020 - acc: 1.0000 - val_loss: 1.7525e-05 - val_acc: 1.0000\n",
      "Epoch 12/50\n",
      "29/29 [==============================] - ETA: 0s - loss: 0.0026 - acc: 1.0000\n",
      "Epoch 00012: val_acc did not improve from 1.00000\n",
      "29/29 [==============================] - 1s 20ms/step - loss: 0.0026 - acc: 1.0000 - val_loss: 1.1854e-05 - val_acc: 1.0000\n",
      "Epoch 13/50\n",
      "28/29 [===========================>..] - ETA: 0s - loss: 0.0030 - acc: 0.9989\n",
      "Epoch 00013: val_acc did not improve from 1.00000\n",
      "29/29 [==============================] - 1s 21ms/step - loss: 0.0029 - acc: 0.9989 - val_loss: 4.6778e-06 - val_acc: 1.0000\n",
      "Epoch 14/50\n",
      "28/29 [===========================>..] - ETA: 0s - loss: 0.0163 - acc: 0.9967  \n",
      "Epoch 00014: val_acc did not improve from 1.00000\n",
      "29/29 [==============================] - 1s 18ms/step - loss: 0.0159 - acc: 0.9967 - val_loss: 1.0614e-06 - val_acc: 1.0000\n",
      "Epoch 15/50\n",
      "25/29 [========================>.....] - ETA: 0s - loss: 0.0063 - acc: 0.9987 \n",
      "Epoch 00015: val_acc did not improve from 1.00000\n",
      "29/29 [==============================] - 0s 14ms/step - loss: 0.0055 - acc: 0.9989 - val_loss: 1.2005e-06 - val_acc: 1.0000\n",
      "Epoch 16/50\n",
      "26/29 [=========================>....] - ETA: 0s - loss: 0.0019 - acc: 1.0000\n",
      "Epoch 00016: val_acc did not improve from 1.00000\n",
      "29/29 [==============================] - 1s 18ms/step - loss: 0.0017 - acc: 1.0000 - val_loss: 1.2833e-06 - val_acc: 1.0000\n",
      "Epoch 17/50\n",
      "26/29 [=========================>....] - ETA: 0s - loss: 4.6534 - acc: 0.9279\n",
      "Epoch 00017: val_acc did not improve from 1.00000\n",
      "29/29 [==============================] - 1s 20ms/step - loss: 4.2672 - acc: 0.9306 - val_loss: 0.1268 - val_acc: 0.9798\n",
      "Epoch 18/50\n",
      "27/29 [==========================>...] - ETA: 0s - loss: 0.7411 - acc: 0.9190\n",
      "Epoch 00018: val_acc did not improve from 1.00000\n",
      "29/29 [==============================] - 1s 20ms/step - loss: 0.7003 - acc: 0.9219 - val_loss: 0.0069 - val_acc: 0.9949\n",
      "Epoch 19/50\n",
      "27/29 [==========================>...] - ETA: 0s - loss: 0.1810 - acc: 0.9803\n",
      "Epoch 00019: val_acc did not improve from 1.00000\n",
      "29/29 [==============================] - 1s 20ms/step - loss: 0.1791 - acc: 0.9805 - val_loss: 5.4845e-06 - val_acc: 1.0000\n",
      "Epoch 20/50\n",
      "27/29 [==========================>...] - ETA: 0s - loss: 0.0324 - acc: 0.9965  \n",
      "Epoch 00020: val_acc did not improve from 1.00000\n",
      "29/29 [==============================] - 1s 20ms/step - loss: 0.0306 - acc: 0.9967 - val_loss: 2.8606e-05 - val_acc: 1.0000\n",
      "Epoch 21/50\n",
      "26/29 [=========================>....] - ETA: 0s - loss: 0.0037 - acc: 0.9988\n",
      "Epoch 00021: val_acc did not improve from 1.00000\n",
      "29/29 [==============================] - 1s 20ms/step - loss: 0.0034 - acc: 0.9989 - val_loss: 1.1466e-05 - val_acc: 1.0000\n",
      "Epoch 22/50\n",
      "29/29 [==============================] - ETA: 0s - loss: 0.0021 - acc: 0.9989   \n",
      "Epoch 00022: val_acc did not improve from 1.00000\n",
      "29/29 [==============================] - 1s 20ms/step - loss: 0.0021 - acc: 0.9989 - val_loss: 9.9999e-06 - val_acc: 1.0000\n",
      "Epoch 23/50\n",
      "27/29 [==========================>...] - ETA: 0s - loss: 4.1575e-04 - acc: 1.0000\n",
      "Epoch 00023: val_acc did not improve from 1.00000\n",
      "29/29 [==============================] - 1s 20ms/step - loss: 5.3624e-04 - acc: 1.0000 - val_loss: 9.7372e-06 - val_acc: 1.0000\n",
      "Epoch 24/50\n",
      "28/29 [===========================>..] - ETA: 0s - loss: 2.2296e-04 - acc: 1.0000\n",
      "Epoch 00024: val_acc did not improve from 1.00000\n",
      "29/29 [==============================] - 1s 20ms/step - loss: 2.1770e-04 - acc: 1.0000 - val_loss: 8.8985e-06 - val_acc: 1.0000\n",
      "Epoch 25/50\n",
      "29/29 [==============================] - ETA: 0s - loss: 2.7430e-04 - acc: 1.0000\n",
      "Epoch 00025: val_acc did not improve from 1.00000\n",
      "29/29 [==============================] - 1s 20ms/step - loss: 2.7430e-04 - acc: 1.0000 - val_loss: 8.3426e-06 - val_acc: 1.0000\n",
      "Epoch 26/50\n",
      "25/29 [========================>.....] - ETA: 0s - loss: 1.5593e-04 - acc: 1.0000\n",
      "Epoch 00026: val_acc did not improve from 1.00000\n",
      "29/29 [==============================] - 0s 11ms/step - loss: 1.3884e-04 - acc: 1.0000 - val_loss: 7.9984e-06 - val_acc: 1.0000\n",
      "Epoch 27/50\n",
      "27/29 [==========================>...] - ETA: 0s - loss: 2.3669e-04 - acc: 1.0000\n",
      "Epoch 00027: val_acc did not improve from 1.00000\n",
      "29/29 [==============================] - 0s 11ms/step - loss: 2.3064e-04 - acc: 1.0000 - val_loss: 7.6586e-06 - val_acc: 1.0000\n",
      "Epoch 28/50\n",
      "27/29 [==========================>...] - ETA: 0s - loss: 2.7057e-04 - acc: 1.0000\n",
      "Epoch 00028: val_acc did not improve from 1.00000\n",
      "29/29 [==============================] - 1s 18ms/step - loss: 2.6673e-04 - acc: 1.0000 - val_loss: 7.1917e-06 - val_acc: 1.0000\n",
      "Epoch 29/50\n",
      "26/29 [=========================>....] - ETA: 0s - loss: 1.0162e-04 - acc: 1.0000\n",
      "Epoch 00029: val_acc did not improve from 1.00000\n",
      "29/29 [==============================] - 0s 13ms/step - loss: 9.7520e-05 - acc: 1.0000 - val_loss: 6.9428e-06 - val_acc: 1.0000\n",
      "Epoch 30/50\n",
      "29/29 [==============================] - ETA: 0s - loss: 1.4010e-04 - acc: 1.0000\n",
      "Epoch 00030: val_acc did not improve from 1.00000\n",
      "29/29 [==============================] - 0s 14ms/step - loss: 1.4010e-04 - acc: 1.0000 - val_loss: 6.7074e-06 - val_acc: 1.0000\n",
      "Epoch 31/50\n",
      "28/29 [===========================>..] - ETA: 0s - loss: 2.9664e-04 - acc: 1.0000\n",
      "Epoch 00031: val_acc did not improve from 1.00000\n",
      "29/29 [==============================] - 0s 13ms/step - loss: 2.9011e-04 - acc: 1.0000 - val_loss: 6.1624e-06 - val_acc: 1.0000\n",
      "Epoch 32/50\n",
      "25/29 [========================>.....] - ETA: 0s - loss: 3.9881e-04 - acc: 1.0000\n",
      "Epoch 00032: val_acc did not improve from 1.00000\n",
      "29/29 [==============================] - 0s 15ms/step - loss: 3.7069e-04 - acc: 1.0000 - val_loss: 6.0506e-06 - val_acc: 1.0000\n",
      "Epoch 33/50\n",
      "27/29 [==========================>...] - ETA: 0s - loss: 1.5536e-04 - acc: 1.0000\n",
      "Epoch 00033: val_acc did not improve from 1.00000\n",
      "29/29 [==============================] - 0s 12ms/step - loss: 1.4570e-04 - acc: 1.0000 - val_loss: 5.8101e-06 - val_acc: 1.0000\n",
      "Epoch 34/50\n",
      "25/29 [========================>.....] - ETA: 0s - loss: 0.0065 - acc: 0.9987  \n",
      "Epoch 00034: val_acc did not improve from 1.00000\n",
      "29/29 [==============================] - 0s 12ms/step - loss: 0.0057 - acc: 0.9989 - val_loss: 7.2098e-06 - val_acc: 1.0000\n",
      "Epoch 35/50\n",
      "27/29 [==========================>...] - ETA: 0s - loss: 5.1134e-04 - acc: 1.0000\n",
      "Epoch 00035: val_acc did not improve from 1.00000\n",
      "29/29 [==============================] - 1s 18ms/step - loss: 4.7995e-04 - acc: 1.0000 - val_loss: 6.8169e-06 - val_acc: 1.0000\n",
      "Epoch 36/50\n",
      "27/29 [==========================>...] - ETA: 0s - loss: 1.3169e-04 - acc: 1.0000\n",
      "Epoch 00036: val_acc did not improve from 1.00000\n",
      "29/29 [==============================] - 0s 16ms/step - loss: 1.2544e-04 - acc: 1.0000 - val_loss: 6.6339e-06 - val_acc: 1.0000\n",
      "Epoch 37/50\n",
      "29/29 [==============================] - ETA: 0s - loss: 3.1906e-04 - acc: 1.0000\n",
      "Epoch 00037: val_acc did not improve from 1.00000\n",
      "29/29 [==============================] - 1s 18ms/step - loss: 3.1906e-04 - acc: 1.0000 - val_loss: 7.1222e-06 - val_acc: 1.0000\n",
      "Epoch 38/50\n",
      "26/29 [=========================>....] - ETA: 0s - loss: 1.1266e-04 - acc: 1.0000\n",
      "Epoch 00038: val_acc did not improve from 1.00000\n",
      "29/29 [==============================] - 0s 17ms/step - loss: 1.0265e-04 - acc: 1.0000 - val_loss: 7.0067e-06 - val_acc: 1.0000\n",
      "Epoch 39/50\n",
      "29/29 [==============================] - ETA: 0s - loss: 0.0087 - acc: 0.9978\n",
      "Epoch 00039: val_acc did not improve from 1.00000\n",
      "29/29 [==============================] - 1s 18ms/step - loss: 0.0087 - acc: 0.9978 - val_loss: 6.9922e-06 - val_acc: 1.0000\n",
      "Epoch 40/50\n",
      "28/29 [===========================>..] - ETA: 0s - loss: 0.0039 - acc: 0.9989\n",
      "Epoch 00040: val_acc did not improve from 1.00000\n",
      "29/29 [==============================] - 1s 19ms/step - loss: 0.0038 - acc: 0.9989 - val_loss: 1.5757e-05 - val_acc: 1.0000\n",
      "Epoch 41/50\n",
      "28/29 [===========================>..] - ETA: 0s - loss: 3.7684e-04 - acc: 1.0000\n",
      "Epoch 00041: val_acc did not improve from 1.00000\n",
      "29/29 [==============================] - 1s 20ms/step - loss: 3.6703e-04 - acc: 1.0000 - val_loss: 1.3777e-05 - val_acc: 1.0000\n",
      "Epoch 42/50\n",
      "27/29 [==========================>...] - ETA: 0s - loss: 0.0016 - acc: 1.0000\n",
      "Epoch 00042: val_acc did not improve from 1.00000\n",
      "29/29 [==============================] - 1s 20ms/step - loss: 0.0016 - acc: 1.0000 - val_loss: 1.7182e-05 - val_acc: 1.0000\n",
      "Epoch 43/50\n",
      "29/29 [==============================] - ETA: 0s - loss: 3.6265e-04 - acc: 1.0000\n",
      "Epoch 00043: val_acc did not improve from 1.00000\n",
      "29/29 [==============================] - 1s 20ms/step - loss: 3.6265e-04 - acc: 1.0000 - val_loss: 1.7767e-05 - val_acc: 1.0000\n",
      "Epoch 44/50\n",
      "27/29 [==========================>...] - ETA: 0s - loss: 1.6848e-04 - acc: 1.0000\n",
      "Epoch 00044: val_acc did not improve from 1.00000\n",
      "29/29 [==============================] - 1s 20ms/step - loss: 2.6481e-04 - acc: 1.0000 - val_loss: 1.7398e-05 - val_acc: 1.0000\n",
      "Epoch 45/50\n",
      "28/29 [===========================>..] - ETA: 0s - loss: 0.0020 - acc: 0.9989    \n",
      "Epoch 00045: val_acc did not improve from 1.00000\n",
      "29/29 [==============================] - 1s 20ms/step - loss: 0.0019 - acc: 0.9989 - val_loss: 1.7735e-05 - val_acc: 1.0000\n",
      "Epoch 46/50\n",
      "26/29 [=========================>....] - ETA: 0s - loss: 0.0038 - acc: 0.9988\n",
      "Epoch 00046: val_acc did not improve from 1.00000\n",
      "29/29 [==============================] - 1s 18ms/step - loss: 0.0035 - acc: 0.9989 - val_loss: 1.3996e-05 - val_acc: 1.0000\n",
      "Epoch 47/50\n",
      "28/29 [===========================>..] - ETA: 0s - loss: 0.0044 - acc: 0.9989   \n",
      "Epoch 00047: val_acc did not improve from 1.00000\n",
      "29/29 [==============================] - 1s 19ms/step - loss: 0.0043 - acc: 0.9989 - val_loss: 1.0676e-05 - val_acc: 1.0000\n",
      "Epoch 48/50\n",
      "28/29 [===========================>..] - ETA: 0s - loss: 8.6138e-05 - acc: 1.0000\n",
      "Epoch 00048: val_acc did not improve from 1.00000\n",
      "29/29 [==============================] - 1s 19ms/step - loss: 8.3722e-05 - acc: 1.0000 - val_loss: 3.9896e-06 - val_acc: 1.0000\n",
      "Epoch 49/50\n",
      "29/29 [==============================] - ETA: 0s - loss: 1.8610e-04 - acc: 1.0000\n",
      "Epoch 00049: val_acc did not improve from 1.00000\n",
      "29/29 [==============================] - 1s 19ms/step - loss: 1.8610e-04 - acc: 1.0000 - val_loss: 9.2971e-06 - val_acc: 1.0000\n",
      "Epoch 50/50\n",
      "27/29 [==========================>...] - ETA: 0s - loss: 0.0037 - acc: 0.9988\n",
      "Epoch 00050: val_acc did not improve from 1.00000\n",
      "29/29 [==============================] - 1s 19ms/step - loss: 0.0035 - acc: 0.9989 - val_loss: 5.5209e-07 - val_acc: 1.0000\n"
     ]
    }
   ],
   "source": [
    "# 모델 훈련 (epochs=200: 학습량)\n",
    "from tensorflow.keras.callbacks import ModelCheckpoint, ReduceLROnPlateau\n",
    "from tensorflow.keras.models import load_model\n",
    "\n",
    "history = model.fit(\n",
    "    x_train,\n",
    "    y_train,\n",
    "    validation_data=(x_val, y_val),\n",
    "    epochs=50,\n",
    "    callbacks=[\n",
    "        ModelCheckpoint('model_ko.h5', monitor='val_acc', verbose=1, save_best_only=True, mode='auto'),\n",
    "        ReduceLROnPlateau(monitor='val_acc', factor=0.5, patience=50, verbose=1, mode='auto')\n",
    "    ]\n",
    ")"
   ]
  },
  {
   "cell_type": "code",
   "execution_count": 69,
   "metadata": {},
   "outputs": [
    {
     "data": {
      "image/png": "[encoded data removed]",
      "text/plain": [
       "<Figure size 1600x1000 with 2 Axes>"
      ]
     },
     "metadata": {},
     "output_type": "display_data"
    }
   ],
   "source": [
    "# 훈련 과정에서 발생한 손실(loss) 및 정확도(accuracy)를 시각화\n",
    "\n",
    "import matplotlib.pyplot as plt\n",
    "\n",
    "fig, loss_ax = plt.subplots(figsize=(16, 10))\n",
    "acc_ax = loss_ax.twinx()\n",
    "\n",
    "loss_ax.plot(history.history['loss'], 'y', label='train loss') #노랑: 학습 데이터셋 기반 모델의 손실\n",
    "loss_ax.plot(history.history['val_loss'], 'r', label='val loss') #빨강: 검증 데이터셋 기반 모델의 손실\n",
    "loss_ax.set_xlabel('epoch')\n",
    "loss_ax.set_ylabel('loss')\n",
    "loss_ax.legend(loc='upper left')\n",
    "\n",
    "acc_ax.plot(history.history['acc'], 'b', label='train acc') # 파랑: 학습 데이터셋 기반 모델 정확도\n",
    "acc_ax.plot(history.history['val_acc'], 'g', label='val acc') #녹색: 검증 데이터셋 기반 모델 정확도\n",
    "acc_ax.set_ylabel('accuracy')\n",
    "acc_ax.legend(loc='upper left')\n",
    "\n",
    "plt.show()"
   ]
  },
  {
   "cell_type": "code",
   "execution_count": 70,
   "metadata": {},
   "outputs": [
    {
     "data": {
      "text/plain": [
       "array([[[267,   0],\n",
       "        [  0, 129]],\n",
       "\n",
       "       [[270,   0],\n",
       "        [  0, 126]],\n",
       "\n",
       "       [[255,   0],\n",
       "        [  0, 141]]], dtype=int64)"
      ]
     },
     "execution_count": 70,
     "metadata": {},
     "output_type": "execute_result"
    }
   ],
   "source": [
    "# 모델의 예측 결과와 실제 레이블 간의 다중 레이블 혼동 행렬(multilabel confusion matrix)을 계산하는 작업을 수행\n",
    "\n",
    "from sklearn.metrics import multilabel_confusion_matrix\n",
    "\n",
    "\n",
    "y_pred = model.predict(x_val)\n",
    "\n",
    "multilabel_confusion_matrix(np.argmax(y_val, axis=1), np.argmax(y_pred, axis=1))\n",
    "\n",
    "# 실행 결과 예시\n",
    "# WARNING:tensorflow:Layer lstm will not use cuDNN kernel since it doesn't meet the cuDNN kernel criteria. It will use generic GPU kernel as fallback when running on GPU\n",
    "# array([[[94,  1],\n",
    "#         [ 0, 34]],\n",
    "\n",
    "#        [[81,  0],\n",
    "#         [ 0, 47]],\n",
    "\n",
    "#        [[81,  0],\n",
    "#         [ 0, 47]]])\n",
    "\n",
    "# 예시로 해석\n",
    "# True Positive (TP): 모델이 양성(Positive)으로 예측한 것 중에서 실제로 양성인 경우의 수. (94)\n",
    "# True Negative (TN): 모델이 음성(Negative)으로 예측한 것 중에서 실제로 음성인 경우의 수. (34))\n",
    "# False Positive (FP): 모델이 양성(Positive)으로 잘못 예측한 것 중에서 실제로는 음성인 경우의 수. (0: 모델이 양성으로 잘못 예측한 경우가 없음)\n",
    "# False Negative (FN): 모델이 음성(Negative)으로 잘못 예측한 것 중에서 실제로는 양성인 경우의 수. (1)"
   ]
  },
  {
   "cell_type": "code",
   "execution_count": null,
   "metadata": {},
   "outputs": [],
   "source": []
  }
 ],
 "metadata": {
  "kernelspec": {
   "display_name": "sign",
   "language": "python",
   "name": "sign"
  },
  "language_info": {
   "codemirror_mode": {
    "name": "ipython",
    "version": 3
   },
   "file_extension": ".py",
   "mimetype": "text/x-python",
   "name": "python",
   "nbconvert_exporter": "python",
   "pygments_lexer": "ipython3",
   "version": "3.8.18"
  }
 },
 "nbformat": 4,
 "nbformat_minor": 4
}
